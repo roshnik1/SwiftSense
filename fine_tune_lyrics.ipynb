{
 "cells": [
  {
   "cell_type": "code",
   "execution_count": null,
   "metadata": {},
   "outputs": [],
   "source": [
    "import openai\n",
    "import requests\n",
    "import os"
   ]
  },
  {
   "cell_type": "code",
   "execution_count": 11,
   "metadata": {},
   "outputs": [],
   "source": [
    "# Path to the txt file containing the API key\n",
    "api_key_file = 'openaikey.txt'"
   ]
  },
  {
   "cell_type": "code",
   "execution_count": 12,
   "metadata": {},
   "outputs": [],
   "source": [
    "# Read the API key from the file\n",
    "with open(api_key_file, 'r') as file:\n",
    "    api_key = file.read().strip()"
   ]
  },
  {
   "cell_type": "code",
   "execution_count": 13,
   "metadata": {},
   "outputs": [],
   "source": [
    "# Set the environment variable\n",
    "os.environ[\"OPENAI_API_KEY\"] = api_key"
   ]
  },
  {
   "cell_type": "code",
   "execution_count": 14,
   "metadata": {},
   "outputs": [],
   "source": [
    "# Initialize OpenAI with the environment variable\n",
    "openai.api_key = os.getenv(\"OPENAI_API_KEY\")"
   ]
  },
  {
   "cell_type": "code",
   "execution_count": null,
   "metadata": {},
   "outputs": [],
   "source": [
    "from openai import OpenAI\n",
    "client = OpenAI()\n",
    "\n",
    "client.files.create(\n",
    "  file=open(\"lyrics.jsonl\", \"rb\"),\n",
    "  purpose=\"fine-tune\"\n",
    ")"
   ]
  },
  {
   "cell_type": "code",
   "execution_count": null,
   "metadata": {},
   "outputs": [],
   "source": [
    "client.fine_tuning.jobs.create(\n",
    "  training_file=\"\",   # Get training file # from above\n",
    "  model=\"davinci-002\"\n",
    ")"
   ]
  },
  {
   "cell_type": "code",
   "execution_count": null,
   "metadata": {},
   "outputs": [],
   "source": [
    "# Retrieve the state of fine-tune job\n",
    "client.fine_tuning.jobs.retrieve(\"\")"
   ]
  },
  {
   "cell_type": "code",
   "execution_count": 26,
   "metadata": {},
   "outputs": [
    {
     "name": "stdout",
     "output_type": "stream",
     "text": [
      "or less.\n",
      "\n",
      "Taking inspiration from the media's portrayal of her love life, Taylor Swift turns the spotlight on herself with a satirical take on her reputation as a serial dater.\n",
      "The song uses the metaphor of a 'blank space' to represent the blank canvas on which people project their own interpretations of her relationships.\n",
      "Swift acknowledges the criticism and sensationalism surrounding her love life, while simultaneously reclaiming the narrative and owning her image as a romantic troublemaker.\n",
      "The lyrics are a tongue-in-cheek reflection on love, lust, and the public perception of personal relationships.\n",
      "\n",
      "The song also touches on themes of reinvention, fantasy, and the consequences of impulsiveness in love.\n",
      "Swift embraces the idea of embracing imperfections and turning them into strengths, bringing a sense of playfulness and self-awareness to the discussion of personal relationships and reputation.\n",
      "The catchy, upbeat chorus juxtaposes with the darker undertones of the verses, highlighting the transformative power of introspection and self-acceptance.\n",
      "\n",
      "Overall, 'Blank Space' is a sharp, witty commentary on love, reputation, and personal reinvention.\n",
      "It subverts expectations and turns the spotlight back onto the artist, embracing imperfections and turning them into strengths.\n",
      "The song reflects Taylor Swift's ability to navigate and transform challenging situations into empowering narratives, resonating with audiences who have followed her personal and professional journey..\n"
     ]
    }
   ],
   "source": [
    "response = client.completions.create(\n",
    "    # Fine-tuned model ID\n",
    "    model='',\n",
    "    # Testing the song \"Blank Space\"\n",
    "    prompt=\"Explain the meaning of the song 'Blank Space' by Taylor Swift as best as possible. Limit your response to 100 words\",\n",
    "    max_tokens=400\n",
    ")\n",
    "\n",
    "# Get the text response and strip any leading/trailing whitespace\n",
    "response_text = response.choices[0].text.strip()\n",
    "\n",
    "# Split the text into sentences using a basic split on period followed by a space\n",
    "sentences = response_text.split('. ')\n",
    "\n",
    "# Print each sentence on a new line\n",
    "for sentence in sentences:\n",
    "    print(sentence.strip() + '.')"
   ]
  },
  {
   "cell_type": "code",
   "execution_count": null,
   "metadata": {},
   "outputs": [],
   "source": []
  }
 ],
 "metadata": {
  "kernelspec": {
   "display_name": "Python 3",
   "language": "python",
   "name": "python3"
  },
  "language_info": {
   "codemirror_mode": {
    "name": "ipython",
    "version": 3
   },
   "file_extension": ".py",
   "mimetype": "text/x-python",
   "name": "python",
   "nbconvert_exporter": "python",
   "pygments_lexer": "ipython3",
   "version": "3.8.0"
  }
 },
 "nbformat": 4,
 "nbformat_minor": 2
}
