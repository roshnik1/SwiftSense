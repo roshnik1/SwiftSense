{
 "cells": [
  {
   "cell_type": "code",
   "execution_count": 67,
   "metadata": {},
   "outputs": [],
   "source": [
    "import openai\n",
    "import re\n",
    "import json\n",
    "import time\n",
    "import requests\n",
    "import os"
   ]
  },
  {
   "cell_type": "code",
   "execution_count": 87,
   "metadata": {},
   "outputs": [],
   "source": [
    "# Read the OpenAI API key from the file\n",
    "with open('openaikey.txt', 'r') as file:\n",
    "    openai.api_key = file.read().strip()"
   ]
  },
  {
   "cell_type": "code",
   "execution_count": 81,
   "metadata": {},
   "outputs": [],
   "source": [
    "# Function to clean the lyrics\n",
    "def clean_lyrics(lyrics):\n",
    "    cleaned_lyrics = re.sub(r'[^a-zA-Z0-9\\s]', '', lyrics)  # Remove special characters\n",
    "    cleaned_lyrics = re.sub(r'\\n+', ' ', cleaned_lyrics)  # Replace multiple newlines with a space\n",
    "    cleaned_lyrics = cleaned_lyrics.strip()  # Remove leading/trailing whitespace\n",
    "    return cleaned_lyrics"
   ]
  },
  {
   "cell_type": "code",
   "execution_count": 82,
   "metadata": {},
   "outputs": [],
   "source": [
    "# Function to fetch the lyrics of a song using the Lyrics.ovh API\n",
    "def get_lyrics(artist, title):\n",
    "    url = f\"https://api.lyrics.ovh/v1/{artist}/{title}\"\n",
    "    \n",
    "    try:\n",
    "        response = requests.get(url)\n",
    "        response.raise_for_status()\n",
    "        data = response.json()\n",
    "        return data.get('lyrics', 'Lyrics not found')\n",
    "    except requests.exceptions.HTTPError as errh:\n",
    "        print(f\"HTTP Error: {errh}\")\n",
    "    except requests.exceptions.ConnectionError as errc:\n",
    "        print(f\"Connection Error: {errc}\")\n",
    "    except requests.exceptions.Timeout as errt:\n",
    "        print(f\"Timeout Error: {errt}\")\n",
    "    except requests.exceptions.RequestException as err:\n",
    "        print(f\"Something went wrong: {err}\")"
   ]
  },
  {
   "cell_type": "code",
   "execution_count": 83,
   "metadata": {},
   "outputs": [],
   "source": [
    "def generate_explanation(song, lyrics):\n",
    "    messages = [\n",
    "        {\"role\": \"system\", \"content\": \"You are an expert on song Taylor Swift's song lyrics and their meanings.\"},\n",
    "        {\"role\": \"user\", \"content\": f\"Explain the meaning of the song '{song}' by Taylor Swift. Lyrics: {lyrics}\"}\n",
    "    ]\n",
    "    \n",
    "    try:\n",
    "        # chat/completions endpoint for the chat-based model\n",
    "        response = openai.chat.completions.create(\n",
    "            model=\"gpt-3.5-turbo\",\n",
    "            messages=messages,\n",
    "            max_tokens=150,\n",
    "            temperature=0.7\n",
    "        )\n",
    "        explanation = response.choices[0].message.content.strip()\n",
    "        return explanation\n",
    "    except Exception as e:\n",
    "        print(f\"Error generating explanation for {song}: {e}\")\n",
    "        return None"
   ]
  },
  {
   "cell_type": "code",
   "execution_count": 84,
   "metadata": {},
   "outputs": [],
   "source": [
    "# Function to save the prompt-completion pair as JSONL\n",
    "def save_single_pair_as_jsonl(pair, filename):\n",
    "    with open(filename, 'a') as f:\n",
    "        json.dump(pair, f)\n",
    "        f.write('\\n')"
   ]
  },
  {
   "cell_type": "code",
   "execution_count": 85,
   "metadata": {},
   "outputs": [],
   "source": [
    "# Main loop to continuously process songs\n",
    "def process_songs(filename='lyrics.jsonl'):\n",
    "    artist = \"Taylor Swift\"\n",
    "    \n",
    "    while True:\n",
    "        song = input(\"Enter the name of the song (or type 'exit' to stop): \")\n",
    "        \n",
    "        if song.lower() == 'exit':\n",
    "            print(\"Exiting...\")\n",
    "            break\n",
    "\n",
    "        # Fetch lyrics\n",
    "        lyrics = get_lyrics(artist, song)\n",
    "        if not lyrics or lyrics == 'Lyrics not found':\n",
    "            print(f\"Lyrics not found for song: {song}\")\n",
    "            continue\n",
    "\n",
    "        # Clean lyrics\n",
    "        cleaned_lyrics = clean_lyrics(lyrics)\n",
    "        \n",
    "        # Generate explanation using GPT-3\n",
    "        explanation = generate_explanation(song, cleaned_lyrics)\n",
    "        \n",
    "        if explanation:\n",
    "            # Create the prompt-completion pair\n",
    "            prompt_completion_pair = {\n",
    "                \"prompt\": f\"Explain the meaning of the song '{song}' by Taylor Swift.\",\n",
    "                \"completion\": explanation\n",
    "            }\n",
    "            \n",
    "            # Save the pair as a JSONL entry\n",
    "            save_single_pair_as_jsonl(prompt_completion_pair, filename)\n",
    "            print(f\"Processed and saved explanation for song: {song}\")\n",
    "            \n",
    "            # Pause to respect rate limits\n",
    "            time.sleep(1)"
   ]
  },
  {
   "cell_type": "code",
   "execution_count": null,
   "metadata": {},
   "outputs": [],
   "source": [
    "# Run the main loop and generate lyrics\n",
    "process_songs()"
   ]
  }
 ],
 "metadata": {
  "kernelspec": {
   "display_name": "Python 3",
   "language": "python",
   "name": "python3"
  },
  "language_info": {
   "codemirror_mode": {
    "name": "ipython",
    "version": 3
   },
   "file_extension": ".py",
   "mimetype": "text/x-python",
   "name": "python",
   "nbconvert_exporter": "python",
   "pygments_lexer": "ipython3",
   "version": "3.8.0"
  }
 },
 "nbformat": 4,
 "nbformat_minor": 2
}
