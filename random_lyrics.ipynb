{
 "cells": [
  {
   "cell_type": "code",
   "execution_count": 9,
   "metadata": {},
   "outputs": [],
   "source": [
    "import json\n",
    "import random"
   ]
  },
  {
   "cell_type": "code",
   "execution_count": 10,
   "metadata": {},
   "outputs": [],
   "source": [
    "def load_lyrics_from_json():\n",
    "    with open('lyrics.json', 'r') as file:\n",
    "        all_quotes = json.load(file)\n",
    "    return all_quotes"
   ]
  },
  {
   "cell_type": "code",
   "execution_count": 11,
   "metadata": {},
   "outputs": [],
   "source": [
    "def get_random_lyric():\n",
    "    all_quotes = load_lyrics_from_json()\n",
    "    random_quote = random.choice(all_quotes)\n",
    "    print(f\"Lyric: {random_quote['quote']}\")\n",
    "    print(f\"Song: {random_quote['song']}\")\n",
    "    print(f\"Album: {random_quote['album']}\")"
   ]
  },
  {
   "cell_type": "code",
   "execution_count": 20,
   "metadata": {},
   "outputs": [
    {
     "name": "stdout",
     "output_type": "stream",
     "text": [
      "Lyric: I spy with my little tired eye / Tiny as a firefly / A pebble that we picked up last July\n",
      "Song: Sweet Nothing\n",
      "Album: Midnights\n"
     ]
    }
   ],
   "source": [
    "# Calling the function to display a random lyric, song, and album\n",
    "get_random_lyric()"
   ]
  }
 ],
 "metadata": {
  "kernelspec": {
   "display_name": "Python 3",
   "language": "python",
   "name": "python3"
  },
  "language_info": {
   "codemirror_mode": {
    "name": "ipython",
    "version": 3
   },
   "file_extension": ".py",
   "mimetype": "text/x-python",
   "name": "python",
   "nbconvert_exporter": "python",
   "pygments_lexer": "ipython3",
   "version": "3.8.0"
  }
 },
 "nbformat": 4,
 "nbformat_minor": 2
}
