{
 "cells": [
  {
   "cell_type": "code",
   "execution_count": null,
   "metadata": {},
   "outputs": [],
   "source": [
    "import random\n",
    "import subprocess\n",
    "import json"
   ]
  },
  {
   "cell_type": "code",
   "execution_count": null,
   "metadata": {},
   "outputs": [],
   "source": [
    "# Load the lyrics.js file and convert the data to a Python list\n",
    "def load_lyrics_from_js():\n",
    "    # Use node.js to evaluate the JS file and return the JSON-like structure\n",
    "    result = subprocess.run(['node', '-e', 'console.log(JSON.stringify(require(\"lyrics.js\")))'], \n",
    "                            stdout=subprocess.PIPE, text=True)\n",
    "    all_quotes = json.loads(result.stdout)\n",
    "    return all_quotes"
   ]
  },
  {
   "cell_type": "code",
   "execution_count": null,
   "metadata": {},
   "outputs": [],
   "source": [
    "# Creating a function to generate a random lyric from the database\n",
    "def get_random_lyric():\n",
    "    all_quotes = load_lyrics_from_js()\n",
    "    random_quote = random.choice(all_quotes)\n",
    "    print(f\"Lyric: {random_quote['quote']}\")\n",
    "    print(f\"Song: {random_quote['song']}\")\n",
    "    print(f\"Album: {random_quote['album']}\")"
   ]
  },
  {
   "cell_type": "code",
   "execution_count": null,
   "metadata": {},
   "outputs": [],
   "source": [
    "# Calling the function to display a random lyric, song, and album\n",
    "get_random_lyric()"
   ]
  }
 ],
 "metadata": {
  "kernelspec": {
   "display_name": "Python 3",
   "language": "python",
   "name": "python3"
  },
  "language_info": {
   "codemirror_mode": {
    "name": "ipython",
    "version": 3
   },
   "file_extension": ".py",
   "mimetype": "text/x-python",
   "name": "python",
   "nbconvert_exporter": "python",
   "pygments_lexer": "ipython3",
   "version": "3.8.0"
  }
 },
 "nbformat": 4,
 "nbformat_minor": 2
}
